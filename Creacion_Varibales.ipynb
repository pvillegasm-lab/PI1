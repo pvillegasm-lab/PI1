{
 "cells": [
  {
   "cell_type": "code",
   "execution_count": 3,
   "id": "d576abea",
   "metadata": {
    "id": "d576abea"
   },
   "outputs": [
    {
     "name": "stdout",
     "output_type": "stream",
     "text": [
      "✅ Refinado y guardado: ./Processed Data2/AAPL.csv\n",
      "✅ Refinado y guardado: ./Processed Data2/AMZN.csv\n",
      "✅ Refinado y guardado: ./Processed Data2/GOOGL.csv\n",
      "✅ Refinado y guardado: ./Processed Data2/META.csv\n",
      "✅ Refinado y guardado: ./Processed Data2/MSFT.csv\n",
      "✅ Refinado y guardado: ./Processed Data2/NVDA.csv\n",
      "✅ Refinado y guardado: ./Processed Data2/TSLA.csv\n"
     ]
    }
   ],
   "source": [
    "#Creacion Variables en los CSV\n",
    "\n",
    "import os\n",
    "import pandas as pd\n",
    "import numpy as np\n",
    "\n",
    "# 📁 Carpeta de entrada y salida\n",
    "CARPETA_ENTRADA = './Processed Data1/'\n",
    "CARPETA_SALIDA = './Processed Data2/'\n",
    "os.makedirs(CARPETA_SALIDA, exist_ok=True)\n",
    "\n",
    "# 🔧 Función para calcular indicadores y target refinado\n",
    "def refinar_dataset(df):\n",
    "    # --- Features técnicas existentes ---\n",
    "    df['sma20'] = df['close'].rolling(window=20).mean()\n",
    "\n",
    "    delta = df['close'].diff()\n",
    "    gain = np.where(delta > 0, delta, 0)\n",
    "    loss = np.where(delta < 0, -delta, 0)\n",
    "    avg_gain = pd.Series(gain).rolling(window=20).mean()\n",
    "    avg_loss = pd.Series(loss).rolling(window=20).mean()\n",
    "    rs = avg_gain / (avg_loss + 1e-9)\n",
    "    df['rsi20'] = 100 - (100 / (1 + rs))\n",
    "\n",
    "    stddev = df['close'].rolling(window=20).std()\n",
    "    df['bbhigh'] = df['sma20'] + 2 * stddev\n",
    "    df['bblow'] = df['sma20'] - 2 * stddev\n",
    "\n",
    "    # --- Nuevas features cuantitativas ---\n",
    "    df['return_1h'] = df['close'].pct_change(periods=1)\n",
    "    df['return_1d'] = df['close'].pct_change(periods=24)\n",
    "    df['volatility_10'] = df['close'].rolling(window=10).std()\n",
    "    df['volume_change'] = df['volume'].pct_change(periods=1)\n",
    "\n",
    "    # --- Variables binarias auxiliares ---\n",
    "    df['is_above_sma'] = (df['close'] > df['sma20']).astype(int)\n",
    "    df['rsi_overbought'] = (df['rsi20'] > 70).astype(int)\n",
    "    df['rsi_oversold'] = (df['rsi20'] < 30).astype(int)\n",
    "    df['close_near_bbhigh'] = (df['close'] > df['bbhigh'] * 0.95).astype(int)\n",
    "\n",
    "    # --- Target refinado: retorno futuro > 0.3% ---\n",
    "    future_return = df['close'].shift(-1) / df['close'] - 1\n",
    "    df['target'] = (df['close'].shift(-1) > df['close']).astype(int)\n",
    "    df['timestamp'] = pd.to_datetime(df['timestamp'])\n",
    "\n",
    "    # 🧹 Eliminar valores nulos y periodo de pandemia\n",
    "    df.dropna(inplace=True)\n",
    "    df['timestamp'] = pd.to_datetime(df['timestamp'])\n",
    "    df = df[~(df['timestamp'] <= '2022-07-31')]\n",
    "\n",
    "    return df\n",
    "\n",
    "# 🔁 Procesar todos los archivos\n",
    "def refinar_todos_los_csv(carpeta_entrada, carpeta_salida):\n",
    "    archivos = [f for f in os.listdir(carpeta_entrada) if f.endswith('.csv')]\n",
    "\n",
    "    for archivo in archivos:\n",
    "        ruta_entrada = os.path.join(carpeta_entrada, archivo)\n",
    "        ruta_salida = os.path.join(carpeta_salida, archivo)\n",
    "\n",
    "        df = pd.read_csv(ruta_entrada)\n",
    "        df = refinar_dataset(df)\n",
    "        df.to_csv(ruta_salida, index=False)\n",
    "\n",
    "        print(f\"✅ Refinado y guardado: {ruta_salida}\")\n",
    "\n",
    "# 🏁 Ejecutar\n",
    "refinar_todos_los_csv(CARPETA_ENTRADA, CARPETA_SALIDA)\n"
   ]
  }
 ],
 "metadata": {
  "colab": {
   "provenance": []
  },
  "kernelspec": {
   "display_name": "Python 3",
   "language": "python",
   "name": "python3"
  },
  "language_info": {
   "codemirror_mode": {
    "name": "ipython",
    "version": 3
   },
   "file_extension": ".py",
   "mimetype": "text/x-python",
   "name": "python",
   "nbconvert_exporter": "python",
   "pygments_lexer": "ipython3",
   "version": "3.12.9"
  }
 },
 "nbformat": 4,
 "nbformat_minor": 5
}
