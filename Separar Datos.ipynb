{
 "cells": [
  {
   "cell_type": "code",
   "execution_count": 2,
   "id": "97750fde",
   "metadata": {
    "id": "97750fde",
    "outputId": "c2db51d4-d81f-41c8-a315-195041075f3c"
   },
   "outputs": [
    {
     "name": "stdout",
     "output_type": "stream",
     "text": [
      "✅ Guardado: ./Processed Data1/AAPL.csv\n",
      "✅ Guardado: ./Processed Data1/AMZN.csv\n",
      "✅ Guardado: ./Processed Data1/GOOGL.csv\n",
      "✅ Guardado: ./Processed Data1/META.csv\n",
      "✅ Guardado: ./Processed Data1/MSFT.csv\n",
      "✅ Guardado: ./Processed Data1/NVDA.csv\n",
      "✅ Guardado: ./Processed Data1/TSLA.csv\n"
     ]
    }
   ],
   "source": [
    "import pandas as pd\n",
    "import os\n",
    "\n",
    "# 📥 Ruta del CSV de entrada\n",
    "ARCHIVO_CSV = './Raw Data/stock_data_PI1.csv'\n",
    "\n",
    "# 📁 Carpeta de salida\n",
    "CARPETA_SALIDA = './Processed Data1/'\n",
    "os.makedirs(CARPETA_SALIDA, exist_ok=True)\n",
    "\n",
    "# 📊 Leer el CSV\n",
    "df = pd.read_csv(ARCHIVO_CSV)\n",
    "\n",
    "# 🧹 Eliminar columna 'date'\n",
    "df = df.drop(columns=['date'])\n",
    "\n",
    "# 🔁 Procesar cada ticker\n",
    "for ticker in df['ticker'].unique():\n",
    "    df_ticker = df[df['ticker'] == ticker].copy()\n",
    "    df_ticker = df_ticker.drop(columns=['ticker'])        # Eliminar columna 'ticker'\n",
    "    df_ticker.set_index('timestamp', inplace=True)        # Usar timestamp como índice\n",
    "    df_ticker.sort_index(inplace=True)                    # Ordenar por timestamp ascendente\n",
    "\n",
    "    # 💾 Guardar CSV por ticker\n",
    "    output_path = os.path.join(CARPETA_SALIDA, f'{ticker}.csv')\n",
    "    df_ticker.to_csv(output_path)\n",
    "    print(f\"✅ Guardado: {output_path}\")\n"
   ]
  },
  {
   "cell_type": "code",
   "execution_count": 3,
   "id": "7dd3c4c6",
   "metadata": {
    "id": "7dd3c4c6",
    "outputId": "2255adc7-1694-449c-ae28-1b1a8eaa0773"
   },
   "outputs": [
    {
     "name": "stdout",
     "output_type": "stream",
     "text": [
      "\n",
      "📋 VERIFICACIÓN DE NaN EN ARCHIVOS CSV\n",
      "\n",
      "✅ AAPL.csv: SIN NaN\n",
      "✅ AMZN.csv: SIN NaN\n",
      "✅ GOOGL.csv: SIN NaN\n",
      "✅ META.csv: SIN NaN\n",
      "✅ MSFT.csv: SIN NaN\n",
      "✅ NVDA.csv: SIN NaN\n",
      "✅ TSLA.csv: SIN NaN\n"
     ]
    }
   ],
   "source": [
    "#Verificar si los CSV tienen NaN\n",
    "\n",
    "import os\n",
    "import pandas as pd\n",
    "\n",
    "# 📁 Carpeta con los archivos CSV que quieres revisar\n",
    "CARPETA = './Processed Data1/'  # Cambia esto según tu ruta\n",
    "\n",
    "# 🔍 Verificar cada archivo CSV\n",
    "def verificar_nans_en_csvs(carpeta):\n",
    "    archivos = [f for f in os.listdir(carpeta) if f.endswith('.csv')]\n",
    "\n",
    "    print(\"\\n📋 VERIFICACIÓN DE NaN EN ARCHIVOS CSV\\n\")\n",
    "\n",
    "    for archivo in archivos:\n",
    "        ruta = os.path.join(carpeta, archivo)\n",
    "        df = pd.read_csv(ruta)\n",
    "        total_nans = df.isna().sum().sum()\n",
    "\n",
    "        if total_nans == 0:\n",
    "            print(f\"✅ {archivo}: SIN NaN\")\n",
    "        else:\n",
    "            print(f\"⚠️ {archivo}: {total_nans} valores NaN encontrados\")\n",
    "\n",
    "# 🏁 Ejecutar\n",
    "verificar_nans_en_csvs(CARPETA)\n"
   ]
  }
 ],
 "metadata": {
  "colab": {
   "provenance": []
  },
  "kernelspec": {
   "display_name": "Python 3",
   "language": "python",
   "name": "python3"
  },
  "language_info": {
   "codemirror_mode": {
    "name": "ipython",
    "version": 3
   },
   "file_extension": ".py",
   "mimetype": "text/x-python",
   "name": "python",
   "nbconvert_exporter": "python",
   "pygments_lexer": "ipython3",
   "version": "3.12.9"
  }
 },
 "nbformat": 4,
 "nbformat_minor": 5
}
